{
 "cells": [
  {
   "cell_type": "markdown",
   "metadata": {},
   "source": [
    "## Concept\n",
    "    Cauculate \"previous 10 days average\" price and add it in a new column as feature when checking one row in testing data. Use \"open\", \"high\", \"low\", \"close\" and \"10 days average\" as the five features to predict the next day 'open' price by using polynomial regression. If the predict value is greater than '10 days average' 10 then buy the stock and the action is 1. If the predict value is small than '10 days average' 10 then buy the stock and the action is -1."
   ]
  },
  {
   "cell_type": "markdown",
   "metadata": {},
   "source": [
    "## Moving Average (均線)\n",
    "    In statistics, a moving average (rolling average or running average) is a calculation to analyze data points by creating series of averages of different subsets of the full data set.  \n",
    "    The average price for a period of time represents the average cost of buying stocks over a period of time. This can be used to judge the trend of stock price development and is the most popular technical indicator.\n",
    "    Simple Moving Average(SMA), is the unweighted mean of the previous n data."
   ]
  },
  {
   "cell_type": "markdown",
   "metadata": {},
   "source": [
    "https://github.com/ElmoLee822/AI_Trader/blob/master/moving_average_formula.PNG"
   ]
  },
  {
   "cell_type": "markdown",
   "metadata": {},
   "source": [
    "## 10 days line(10日線)\n",
    "    It represents the average purchase cost for the past 10 days."
   ]
  },
  {
   "cell_type": "markdown",
   "metadata": {},
   "source": [
    "## Method"
   ]
  },
  {
   "cell_type": "markdown",
   "metadata": {},
   "source": [
    "Use Polynomial Features, which we can ask to convert our values of X into all possible polynomials change the value of degree to 5 to train the model. And use the Linear Regression to predict the stock value in next day."
   ]
  },
  {
   "cell_type": "markdown",
   "metadata": {},
   "source": [
    "## Result Plot"
   ]
  },
  {
   "cell_type": "markdown",
   "metadata": {},
   "source": [
    "blue line : predict value"
   ]
  },
  {
   "cell_type": "markdown",
   "metadata": {},
   "source": [
    "red line : actual value"
   ]
  },
  {
   "cell_type": "markdown",
   "metadata": {},
   "source": [
    "green line : 10 days average"
   ]
  },
  {
   "cell_type": "markdown",
   "metadata": {},
   "source": [
    "https://github.com/ElmoLee822/AI_Trader/blob/master/predict_stock.png"
   ]
  },
  {
   "cell_type": "code",
   "execution_count": null,
   "metadata": {
    "collapsed": true
   },
   "outputs": [],
   "source": []
  }
 ],
 "metadata": {
  "kernelspec": {
   "display_name": "Python 3",
   "language": "python",
   "name": "python3"
  },
  "language_info": {
   "codemirror_mode": {
    "name": "ipython",
    "version": 3
   },
   "file_extension": ".py",
   "mimetype": "text/x-python",
   "name": "python",
   "nbconvert_exporter": "python",
   "pygments_lexer": "ipython3",
   "version": "3.6.1"
  }
 },
 "nbformat": 4,
 "nbformat_minor": 2
}
